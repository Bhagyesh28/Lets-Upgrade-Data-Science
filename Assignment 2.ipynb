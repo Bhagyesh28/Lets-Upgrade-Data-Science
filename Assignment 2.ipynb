{
 "cells": [
  {
   "cell_type": "markdown",
   "metadata": {},
   "source": [
    "# Assignmnent 2"
   ]
  },
  {
   "cell_type": "code",
   "execution_count": 2,
   "metadata": {},
   "outputs": [
    {
     "name": "stdout",
     "output_type": "stream",
     "text": [
      "Enter Number:5\n",
      "Enter Number:4\n",
      "Enter Number:7\n",
      "Enter Number:8\n",
      "Enter Number:6\n",
      "Enter Number:1\n",
      "Enter Number:2\n",
      "Enter Number:3\n",
      "Enter Number:9\n",
      "Enter Number:10\n",
      "[4, 8, 6, 2, 10]\n"
     ]
    }
   ],
   "source": [
    "# Question 1\n",
    "\n",
    "list1=[]\n",
    "\n",
    "for i in range(10):\n",
    "    x=int(input(\"Enter Number:\"))\n",
    "    if x%2==0:\n",
    "        list1.append(x)\n",
    "\n",
    "print(list1)"
   ]
  },
  {
   "cell_type": "code",
   "execution_count": 3,
   "metadata": {},
   "outputs": [
    {
     "name": "stdout",
     "output_type": "stream",
     "text": [
      "['h', 'u', 'm', 'a', 'n']\n"
     ]
    }
   ],
   "source": [
    "# Question 2\n",
    "\n",
    "h_letters = [ letter for letter in 'human' ]\n",
    "print( h_letters)\n"
   ]
  },
  {
   "cell_type": "code",
   "execution_count": 5,
   "metadata": {},
   "outputs": [
    {
     "name": "stdout",
     "output_type": "stream",
     "text": [
      "5\n",
      "{1: 1, 2: 4, 3: 9, 4: 16, 5: 25}\n"
     ]
    }
   ],
   "source": [
    "# Question 3\n",
    "\n",
    "dic={}\n",
    "\n",
    "n=int(input())\n",
    "\n",
    "for i in range(1,n+1):\n",
    "    dic[i]=i*i\n",
    "    \n",
    "print(dic)"
   ]
  },
  {
   "cell_type": "code",
   "execution_count": 7,
   "metadata": {},
   "outputs": [
    {
     "name": "stdout",
     "output_type": "stream",
     "text": [
      "4\n",
      "UP 5\n",
      "DOWN 3\n",
      "LEFT 3\n",
      "RIGHT 2\n",
      "2.0\n"
     ]
    }
   ],
   "source": [
    "# Question 4\n",
    "import math\n",
    "x1=0\n",
    "y1=0\n",
    "\n",
    "n=int(input())\n",
    "for i in range(n):\n",
    "    a,b=input().split()\n",
    "    x2,y2=0,0\n",
    "    if a==\"UP\":\n",
    "        y2=y2+int(b)\n",
    "    elif a==\"DOWN\":\n",
    "        y2=y2-int(b)\n",
    "    elif a==\"LEFT\":\n",
    "        x2=x2-int(b)\n",
    "    else:\n",
    "        x2=x2+int(b)\n",
    "       \n",
    "y=(y2-y1)**2\n",
    "x=(x2-x1)**2\n",
    "print(math.sqrt(x+y))"
   ]
  },
  {
   "cell_type": "code",
   "execution_count": null,
   "metadata": {},
   "outputs": [],
   "source": []
  }
 ],
 "metadata": {
  "kernelspec": {
   "display_name": "Python 3",
   "language": "python",
   "name": "python3"
  },
  "language_info": {
   "codemirror_mode": {
    "name": "ipython",
    "version": 3
   },
   "file_extension": ".py",
   "mimetype": "text/x-python",
   "name": "python",
   "nbconvert_exporter": "python",
   "pygments_lexer": "ipython3",
   "version": "3.7.6"
  }
 },
 "nbformat": 4,
 "nbformat_minor": 4
}
